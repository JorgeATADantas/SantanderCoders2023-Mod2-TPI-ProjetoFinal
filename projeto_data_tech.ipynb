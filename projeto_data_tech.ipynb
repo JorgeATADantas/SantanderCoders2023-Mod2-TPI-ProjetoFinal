{
 "cells": [
  {
   "cell_type": "code",
   "execution_count": 260,
   "metadata": {},
   "outputs": [],
   "source": [
    "import numpy as np\n",
    "import pandas as pd"
   ]
  },
  {
   "cell_type": "code",
   "execution_count": 261,
   "metadata": {},
   "outputs": [],
   "source": [
    "bd_data = 'State_of_data_2022.csv'\n",
    "valor_preenchimento = 0  # Substitua pelo valor que faça sentido para dados\n",
    "\n",
    "dados = pd.read_csv(bd_data)\n",
    "#dados = np.genfromtxt(bd_data, delimiter=',', filling_values=valor_preenchimento,skip_header=1, dtype=float, encoding='utf-8')\n",
    "dados = dados.drop(dados.columns[0], axis=1) #retirei a coluna ID\n",
    "\n",
    "# Lista de novos nomes de colunas\n",
    "#novos_nomes = ['Nova_Coluna1', 'Nova_Coluna2', 'Nova_Coluna3', ...]  # Substitua pelos novos nomes desejados\n",
    "\n",
    "# Atribuir os novos nomes de colunas ao DataFrame\n",
    "#dados.columns = novos_nomes"
   ]
  },
  {
   "cell_type": "code",
   "execution_count": 262,
   "metadata": {},
   "outputs": [
    {
     "data": {
      "text/plain": [
       "Index(['('P1_a ', 'Idade')', '('P1_a_1 ', 'Faixa idade')',\n",
       "       '('P1_b ', 'Genero')', '('P1_c ', 'Cor/raca/etnia')',\n",
       "       '('P1_d ', 'PCD')', '('P1_g ', 'vive_no_brasil')',\n",
       "       '('P1_i ', 'Estado onde mora')', '('P1_i_1 ', 'uf onde mora')',\n",
       "       '('P1_i_2 ', 'Regiao onde mora')', '('P1_j ', 'Mudou de Estado?')',\n",
       "       '('P1_k ', 'Regiao de origem')', '('P1_l ', 'Nivel de Ensino')',\n",
       "       '('P1_m ', 'Área de Formação')',\n",
       "       '('P2_a ', 'Qual sua situação atual de trabalho?')'],\n",
       "      dtype='object')"
      ]
     },
     "execution_count": 262,
     "metadata": {},
     "output_type": "execute_result"
    }
   ],
   "source": [
    "colunas_copiar1 = list(range(16))\n",
    "df_demografico1 = dados.iloc[:,colunas_copiar1].copy()\n",
    "\n",
    "df_demografico1 = df_demografico1.drop(df_demografico1.columns[5], axis=1)\n",
    "df_demografico1 = df_demografico1.drop(df_demografico1.columns[5], axis=1)\n",
    "\n",
    "df_demografico1.columns\n",
    "#print(df_demografico)\n"
   ]
  },
  {
   "cell_type": "code",
   "execution_count": 263,
   "metadata": {},
   "outputs": [
    {
     "data": {
      "text/html": [
       "<div>\n",
       "<style scoped>\n",
       "    .dataframe tbody tr th:only-of-type {\n",
       "        vertical-align: middle;\n",
       "    }\n",
       "\n",
       "    .dataframe tbody tr th {\n",
       "        vertical-align: top;\n",
       "    }\n",
       "\n",
       "    .dataframe thead th {\n",
       "        text-align: right;\n",
       "    }\n",
       "</style>\n",
       "<table border=\"1\" class=\"dataframe\">\n",
       "  <thead>\n",
       "    <tr style=\"text-align: right;\">\n",
       "      <th></th>\n",
       "      <th>idade</th>\n",
       "      <th>faixa_idade</th>\n",
       "      <th>genero</th>\n",
       "      <th>cor_raca_etnia</th>\n",
       "      <th>pcd</th>\n",
       "      <th>vive_no_brasil</th>\n",
       "      <th>estado_onde_mora</th>\n",
       "      <th>uf_onde_mora</th>\n",
       "      <th>regiao_onde_mora</th>\n",
       "      <th>mudou_de_estado?</th>\n",
       "      <th>regiao_de_origem</th>\n",
       "      <th>nivel_de_ensino</th>\n",
       "      <th>área_de_formação</th>\n",
       "      <th>qual_sua_situação_atual_de_trabalho?</th>\n",
       "    </tr>\n",
       "  </thead>\n",
       "  <tbody>\n",
       "    <tr>\n",
       "      <th>0</th>\n",
       "      <td>39.0</td>\n",
       "      <td>35-39</td>\n",
       "      <td>Masculino</td>\n",
       "      <td>Parda</td>\n",
       "      <td>Não</td>\n",
       "      <td>True</td>\n",
       "      <td>Distrito Federal (DF)</td>\n",
       "      <td>DF</td>\n",
       "      <td>Centro-oeste</td>\n",
       "      <td>False</td>\n",
       "      <td>Sudeste</td>\n",
       "      <td>Pós-graduação</td>\n",
       "      <td>Computação / Engenharia de Software / Sistemas...</td>\n",
       "      <td>Servidor Público</td>\n",
       "    </tr>\n",
       "    <tr>\n",
       "      <th>1</th>\n",
       "      <td>32.0</td>\n",
       "      <td>30-34</td>\n",
       "      <td>Masculino</td>\n",
       "      <td>Parda</td>\n",
       "      <td>Não</td>\n",
       "      <td>True</td>\n",
       "      <td>Pará (PA)</td>\n",
       "      <td>PA</td>\n",
       "      <td>Norte</td>\n",
       "      <td>True</td>\n",
       "      <td>NaN</td>\n",
       "      <td>Graduação/Bacharelado</td>\n",
       "      <td>Outras Engenharias</td>\n",
       "      <td>Empregado (CLT)</td>\n",
       "    </tr>\n",
       "    <tr>\n",
       "      <th>2</th>\n",
       "      <td>53.0</td>\n",
       "      <td>50-54</td>\n",
       "      <td>Masculino</td>\n",
       "      <td>Branca</td>\n",
       "      <td>Não</td>\n",
       "      <td>True</td>\n",
       "      <td>Distrito Federal (DF)</td>\n",
       "      <td>DF</td>\n",
       "      <td>Centro-oeste</td>\n",
       "      <td>False</td>\n",
       "      <td>Sul</td>\n",
       "      <td>Pós-graduação</td>\n",
       "      <td>Computação / Engenharia de Software / Sistemas...</td>\n",
       "      <td>Empregado (CLT)</td>\n",
       "    </tr>\n",
       "    <tr>\n",
       "      <th>3</th>\n",
       "      <td>27.0</td>\n",
       "      <td>25-29</td>\n",
       "      <td>Masculino</td>\n",
       "      <td>Branca</td>\n",
       "      <td>Não</td>\n",
       "      <td>True</td>\n",
       "      <td>Minas Gerais (MG)</td>\n",
       "      <td>MG</td>\n",
       "      <td>Sudeste</td>\n",
       "      <td>True</td>\n",
       "      <td>NaN</td>\n",
       "      <td>Doutorado ou Phd</td>\n",
       "      <td>Estatística/ Matemática / Matemática Computaci...</td>\n",
       "      <td>Empregado (CLT)</td>\n",
       "    </tr>\n",
       "    <tr>\n",
       "      <th>4</th>\n",
       "      <td>46.0</td>\n",
       "      <td>45-49</td>\n",
       "      <td>Feminino</td>\n",
       "      <td>Branca</td>\n",
       "      <td>Não</td>\n",
       "      <td>True</td>\n",
       "      <td>Pará (PA)</td>\n",
       "      <td>PA</td>\n",
       "      <td>Norte</td>\n",
       "      <td>True</td>\n",
       "      <td>NaN</td>\n",
       "      <td>Pós-graduação</td>\n",
       "      <td>Computação / Engenharia de Software / Sistemas...</td>\n",
       "      <td>Servidor Público</td>\n",
       "    </tr>\n",
       "  </tbody>\n",
       "</table>\n",
       "</div>"
      ],
      "text/plain": [
       "   idade faixa_idade     genero cor_raca_etnia  pcd  vive_no_brasil  \\\n",
       "0   39.0       35-39  Masculino          Parda  Não            True   \n",
       "1   32.0       30-34  Masculino          Parda  Não            True   \n",
       "2   53.0       50-54  Masculino         Branca  Não            True   \n",
       "3   27.0       25-29  Masculino         Branca  Não            True   \n",
       "4   46.0       45-49   Feminino         Branca  Não            True   \n",
       "\n",
       "        estado_onde_mora uf_onde_mora regiao_onde_mora mudou_de_estado?  \\\n",
       "0  Distrito Federal (DF)           DF     Centro-oeste            False   \n",
       "1              Pará (PA)           PA            Norte             True   \n",
       "2  Distrito Federal (DF)           DF     Centro-oeste            False   \n",
       "3      Minas Gerais (MG)           MG          Sudeste             True   \n",
       "4              Pará (PA)           PA            Norte             True   \n",
       "\n",
       "  regiao_de_origem        nivel_de_ensino  \\\n",
       "0          Sudeste          Pós-graduação   \n",
       "1              NaN  Graduação/Bacharelado   \n",
       "2              Sul          Pós-graduação   \n",
       "3              NaN       Doutorado ou Phd   \n",
       "4              NaN          Pós-graduação   \n",
       "\n",
       "                                    área_de_formação  \\\n",
       "0  Computação / Engenharia de Software / Sistemas...   \n",
       "1                                 Outras Engenharias   \n",
       "2  Computação / Engenharia de Software / Sistemas...   \n",
       "3  Estatística/ Matemática / Matemática Computaci...   \n",
       "4  Computação / Engenharia de Software / Sistemas...   \n",
       "\n",
       "  qual_sua_situação_atual_de_trabalho?  \n",
       "0                     Servidor Público  \n",
       "1                      Empregado (CLT)  \n",
       "2                      Empregado (CLT)  \n",
       "3                      Empregado (CLT)  \n",
       "4                     Servidor Público  "
      ]
     },
     "execution_count": 263,
     "metadata": {},
     "output_type": "execute_result"
    }
   ],
   "source": [
    "novos_nomes1 = ['Idade','Faixa_idade','Genero','Cor_raca_etnia','PCD','vive_no_brasil','Estado_onde_mora','uf_onde_mora','Regiao_onde_mora','Mudou_de_Estado?','Regiao_de_origem','Nivel_de_Ensino','Área_de_Formação','Qual_sua_situação_atual_de_trabalho?']\n",
    "nomes_ajustado1 = [nome.lower() for nome in novos_nomes1]\n",
    "df_demografico1.columns = nomes_ajustado1\n",
    "df_demografico1.head()"
   ]
  },
  {
   "cell_type": "code",
   "execution_count": 264,
   "metadata": {},
   "outputs": [
    {
     "name": "stdout",
     "output_type": "stream",
     "text": [
      "<class 'pandas.core.frame.DataFrame'>\n",
      "RangeIndex: 4271 entries, 0 to 4270\n",
      "Data columns (total 14 columns):\n",
      " #   Column                                Non-Null Count  Dtype  \n",
      "---  ------                                --------------  -----  \n",
      " 0   idade                                 4197 non-null   float64\n",
      " 1   faixa_idade                           4271 non-null   object \n",
      " 2   genero                                4262 non-null   object \n",
      " 3   cor_raca_etnia                        4271 non-null   object \n",
      " 4   pcd                                   4271 non-null   object \n",
      " 5   vive_no_brasil                        4271 non-null   bool   \n",
      " 6   estado_onde_mora                      4156 non-null   object \n",
      " 7   uf_onde_mora                          4156 non-null   object \n",
      " 8   regiao_onde_mora                      4171 non-null   object \n",
      " 9   mudou_de_estado?                      4171 non-null   object \n",
      " 10  regiao_de_origem                      772 non-null    object \n",
      " 11  nivel_de_ensino                       4271 non-null   object \n",
      " 12  área_de_formação                      4149 non-null   object \n",
      " 13  qual_sua_situação_atual_de_trabalho?  4271 non-null   object \n",
      "dtypes: bool(1), float64(1), object(12)\n",
      "memory usage: 438.1+ KB\n"
     ]
    }
   ],
   "source": [
    "df_demografico1.info()"
   ]
  },
  {
   "cell_type": "code",
   "execution_count": 265,
   "metadata": {},
   "outputs": [
    {
     "data": {
      "text/plain": [
       "(4271, 14)"
      ]
     },
     "execution_count": 265,
     "metadata": {},
     "output_type": "execute_result"
    }
   ],
   "source": [
    "df_demografico1.shape"
   ]
  },
  {
   "cell_type": "code",
   "execution_count": 280,
   "metadata": {},
   "outputs": [
    {
     "data": {
      "text/plain": [
       "idade                                      0\n",
       "faixa_idade                                0\n",
       "genero                                     0\n",
       "cor_raca_etnia                             0\n",
       "pcd                                        0\n",
       "vive_no_brasil                             0\n",
       "estado_onde_mora                         115\n",
       "uf_onde_mora                             115\n",
       "regiao_onde_mora                         100\n",
       "mudou_de_estado?                         100\n",
       "regiao_de_origem                        3492\n",
       "nivel_de_ensino                            0\n",
       "área_de_formação                         122\n",
       "qual_sua_situação_atual_de_trabalho?       0\n",
       "dtype: int64"
      ]
     },
     "execution_count": 280,
     "metadata": {},
     "output_type": "execute_result"
    }
   ],
   "source": [
    "df_demografico1.isnull().sum()"
   ]
  },
  {
   "cell_type": "code",
   "execution_count": 267,
   "metadata": {},
   "outputs": [
    {
     "data": {
      "text/html": [
       "<div>\n",
       "<style scoped>\n",
       "    .dataframe tbody tr th:only-of-type {\n",
       "        vertical-align: middle;\n",
       "    }\n",
       "\n",
       "    .dataframe tbody tr th {\n",
       "        vertical-align: top;\n",
       "    }\n",
       "\n",
       "    .dataframe thead th {\n",
       "        text-align: right;\n",
       "    }\n",
       "</style>\n",
       "<table border=\"1\" class=\"dataframe\">\n",
       "  <thead>\n",
       "    <tr style=\"text-align: right;\">\n",
       "      <th></th>\n",
       "      <th>idade</th>\n",
       "    </tr>\n",
       "  </thead>\n",
       "  <tbody>\n",
       "    <tr>\n",
       "      <th>count</th>\n",
       "      <td>4197.000000</td>\n",
       "    </tr>\n",
       "    <tr>\n",
       "      <th>mean</th>\n",
       "      <td>31.169168</td>\n",
       "    </tr>\n",
       "    <tr>\n",
       "      <th>std</th>\n",
       "      <td>6.902803</td>\n",
       "    </tr>\n",
       "    <tr>\n",
       "      <th>min</th>\n",
       "      <td>18.000000</td>\n",
       "    </tr>\n",
       "    <tr>\n",
       "      <th>25%</th>\n",
       "      <td>26.000000</td>\n",
       "    </tr>\n",
       "    <tr>\n",
       "      <th>50%</th>\n",
       "      <td>30.000000</td>\n",
       "    </tr>\n",
       "    <tr>\n",
       "      <th>75%</th>\n",
       "      <td>35.000000</td>\n",
       "    </tr>\n",
       "    <tr>\n",
       "      <th>max</th>\n",
       "      <td>54.000000</td>\n",
       "    </tr>\n",
       "  </tbody>\n",
       "</table>\n",
       "</div>"
      ],
      "text/plain": [
       "             idade\n",
       "count  4197.000000\n",
       "mean     31.169168\n",
       "std       6.902803\n",
       "min      18.000000\n",
       "25%      26.000000\n",
       "50%      30.000000\n",
       "75%      35.000000\n",
       "max      54.000000"
      ]
     },
     "execution_count": 267,
     "metadata": {},
     "output_type": "execute_result"
    }
   ],
   "source": [
    "df_demografico1.describe()"
   ]
  },
  {
   "cell_type": "code",
   "execution_count": 170,
   "metadata": {},
   "outputs": [],
   "source": [
    "#df_demografico1.dropna(subset=[\"genero\"],inplace=True)"
   ]
  },
  {
   "cell_type": "code",
   "execution_count": 271,
   "metadata": {},
   "outputs": [
    {
     "data": {
      "text/plain": [
       "array(['Masculino', 'Feminino', 'Prefiro não informar'], dtype=object)"
      ]
     },
     "execution_count": 271,
     "metadata": {},
     "output_type": "execute_result"
    }
   ],
   "source": [
    "df_demografico1[\"genero\"].unique()"
   ]
  },
  {
   "cell_type": "code",
   "execution_count": 270,
   "metadata": {},
   "outputs": [],
   "source": [
    "df_demografico1.loc[df_demografico1[\"genero\"].isnull()] = \"Prefiro não informar\""
   ]
  },
  {
   "cell_type": "code",
   "execution_count": 283,
   "metadata": {},
   "outputs": [
    {
     "data": {
      "text/plain": [
       "array([39.0, 32.0, 53.0, 27.0, 46.0, 21.0, 31.0, 33.0, 25.0, 24.0, 35.0,\n",
       "       28.0, 29.0, 26.0, 37.0, 34.0, 40.0, 18.0, 30.0, 38.0, 48.0, 43.0,\n",
       "       44.0, 50.0, 22.0, 36.0, 51.0, 20.0, 23.0, 42.0, 47.0, 41.0, 45.0,\n",
       "       54.0, 49.0, 52.0, 19.0], dtype=object)"
      ]
     },
     "execution_count": 283,
     "metadata": {},
     "output_type": "execute_result"
    }
   ],
   "source": [
    "df_demografico1[\"idade\"].unique()"
   ]
  },
  {
   "cell_type": "code",
   "execution_count": 273,
   "metadata": {},
   "outputs": [],
   "source": [
    "media_nao_inf1 = df_demografico1.loc[(df_demografico1[\"genero\"] == \"Prefiro não informar\") & (df_demografico1[\"idade\"] != \"Prefiro não informar\"),\"idade\"].mean()\n"
   ]
  },
  {
   "cell_type": "code",
   "execution_count": 274,
   "metadata": {},
   "outputs": [],
   "source": [
    "#media_masc1 = int(df_demografico1[df_demografico1[\"genero\"] == \"Masculino\"][(\"idade\")].mean())\n",
    "media_masc1 = df_demografico1.loc[df_demografico1[\"genero\"] == \"Masculino\", \"idade\"].mean()\n"
   ]
  },
  {
   "cell_type": "code",
   "execution_count": 276,
   "metadata": {},
   "outputs": [],
   "source": [
    "#media_fem1 = (df_demografico1[df_demografico1[\"genero\"] == \"Feminino\"][(\"idade\")].mean())\n",
    "media_fem1 = df_demografico1.loc[df_demografico1[\"genero\"] == \"Feminino\", \"idade\"].mean()\n"
   ]
  },
  {
   "cell_type": "code",
   "execution_count": 279,
   "metadata": {},
   "outputs": [],
   "source": [
    "#df_demografico1[(df_demografico1[\"idade\"].isnull()) & (df_demografico1[\"genero\"] == \"Feminino\"),\"idade\"] = media_fem1 - precisa do .loc\n",
    "# Substitua as idades nulas das mulheres pela média calculada\n",
    "df_demografico1.loc[(df_demografico1[\"idade\"].isnull()) & (df_demografico1[\"genero\"] == \"Feminino\"), \"idade\"] = int(media_fem1)\n",
    "\n",
    "df_demografico1.loc[(df_demografico1[\"idade\"].isnull()) & (df_demografico1[\"genero\"] == \"Masculino\"), \"idade\"] = int(media_masc1)\n",
    "\n",
    "df_demografico1.loc[(df_demografico1[\"idade\"].isnull()) & (df_demografico1[\"genero\"] == \"Prefiro não informar\"), \"idade\"] = int(media_nao_inf1)\n",
    "\n"
   ]
  },
  {
   "cell_type": "code",
   "execution_count": 282,
   "metadata": {},
   "outputs": [],
   "source": [
    "indices_remover1 = df_demografico1[df_demografico1[\"idade\"] == \"Prefiro não informar\"].index\n",
    "df_demografico1.drop(indices_remover1,inplace=True)"
   ]
  },
  {
   "cell_type": "code",
   "execution_count": 284,
   "metadata": {},
   "outputs": [],
   "source": [
    "df_demografico1[\"idade\"] = df_demografico1[\"idade\"].astype(int)\n"
   ]
  },
  {
   "cell_type": "code",
   "execution_count": 285,
   "metadata": {},
   "outputs": [
    {
     "name": "stdout",
     "output_type": "stream",
     "text": [
      "<class 'pandas.core.frame.DataFrame'>\n",
      "Index: 4262 entries, 0 to 4270\n",
      "Data columns (total 14 columns):\n",
      " #   Column                                Non-Null Count  Dtype \n",
      "---  ------                                --------------  ----- \n",
      " 0   idade                                 4262 non-null   int32 \n",
      " 1   faixa_idade                           4262 non-null   object\n",
      " 2   genero                                4262 non-null   object\n",
      " 3   cor_raca_etnia                        4262 non-null   object\n",
      " 4   pcd                                   4262 non-null   object\n",
      " 5   vive_no_brasil                        4262 non-null   object\n",
      " 6   estado_onde_mora                      4147 non-null   object\n",
      " 7   uf_onde_mora                          4147 non-null   object\n",
      " 8   regiao_onde_mora                      4162 non-null   object\n",
      " 9   mudou_de_estado?                      4162 non-null   object\n",
      " 10  regiao_de_origem                      770 non-null    object\n",
      " 11  nivel_de_ensino                       4262 non-null   object\n",
      " 12  área_de_formação                      4140 non-null   object\n",
      " 13  qual_sua_situação_atual_de_trabalho?  4262 non-null   object\n",
      "dtypes: int32(1), object(13)\n",
      "memory usage: 482.8+ KB\n"
     ]
    }
   ],
   "source": [
    "df_demografico1.info()"
   ]
  },
  {
   "cell_type": "code",
   "execution_count": 286,
   "metadata": {},
   "outputs": [],
   "source": [
    "import matplotlib.pyplot as plt"
   ]
  },
  {
   "cell_type": "code",
   "execution_count": 287,
   "metadata": {},
   "outputs": [],
   "source": [
    "import matplotlib.ticker as mticker"
   ]
  },
  {
   "cell_type": "code",
   "execution_count": 243,
   "metadata": {},
   "outputs": [
    {
     "name": "stdout",
     "output_type": "stream",
     "text": [
      "Collecting seabornNote: you may need to restart the kernel to use updated packages.\n"
     ]
    },
    {
     "name": "stderr",
     "output_type": "stream",
     "text": [
      "\n",
      "[notice] A new release of pip available: 22.3.1 -> 23.2.1\n",
      "[notice] To update, run: python.exe -m pip install --upgrade pip\n"
     ]
    },
    {
     "name": "stdout",
     "output_type": "stream",
     "text": [
      "\n",
      "  Downloading seaborn-0.12.2-py3-none-any.whl (293 kB)\n",
      "     -------------------------------------- 293.3/293.3 kB 9.1 MB/s eta 0:00:00\n",
      "Requirement already satisfied: numpy!=1.24.0,>=1.17 in c:\\users\\amara\\appdata\\local\\programs\\python\\python311\\lib\\site-packages (from seaborn) (1.25.2)\n",
      "Requirement already satisfied: pandas>=0.25 in c:\\users\\amara\\appdata\\local\\programs\\python\\python311\\lib\\site-packages (from seaborn) (2.0.3)\n",
      "Requirement already satisfied: matplotlib!=3.6.1,>=3.1 in c:\\users\\amara\\appdata\\local\\programs\\python\\python311\\lib\\site-packages (from seaborn) (3.7.2)\n",
      "Requirement already satisfied: contourpy>=1.0.1 in c:\\users\\amara\\appdata\\local\\programs\\python\\python311\\lib\\site-packages (from matplotlib!=3.6.1,>=3.1->seaborn) (1.1.0)\n",
      "Requirement already satisfied: cycler>=0.10 in c:\\users\\amara\\appdata\\local\\programs\\python\\python311\\lib\\site-packages (from matplotlib!=3.6.1,>=3.1->seaborn) (0.11.0)\n",
      "Requirement already satisfied: fonttools>=4.22.0 in c:\\users\\amara\\appdata\\local\\programs\\python\\python311\\lib\\site-packages (from matplotlib!=3.6.1,>=3.1->seaborn) (4.42.0)\n",
      "Requirement already satisfied: kiwisolver>=1.0.1 in c:\\users\\amara\\appdata\\local\\programs\\python\\python311\\lib\\site-packages (from matplotlib!=3.6.1,>=3.1->seaborn) (1.4.4)\n",
      "Requirement already satisfied: packaging>=20.0 in c:\\users\\amara\\appdata\\roaming\\python\\python311\\site-packages (from matplotlib!=3.6.1,>=3.1->seaborn) (23.1)\n",
      "Requirement already satisfied: pillow>=6.2.0 in c:\\users\\amara\\appdata\\local\\programs\\python\\python311\\lib\\site-packages (from matplotlib!=3.6.1,>=3.1->seaborn) (10.0.0)\n",
      "Requirement already satisfied: pyparsing<3.1,>=2.3.1 in c:\\users\\amara\\appdata\\local\\programs\\python\\python311\\lib\\site-packages (from matplotlib!=3.6.1,>=3.1->seaborn) (3.0.9)\n",
      "Requirement already satisfied: python-dateutil>=2.7 in c:\\users\\amara\\appdata\\roaming\\python\\python311\\site-packages (from matplotlib!=3.6.1,>=3.1->seaborn) (2.8.2)\n",
      "Requirement already satisfied: pytz>=2020.1 in c:\\users\\amara\\appdata\\local\\programs\\python\\python311\\lib\\site-packages (from pandas>=0.25->seaborn) (2023.3)\n",
      "Requirement already satisfied: tzdata>=2022.1 in c:\\users\\amara\\appdata\\local\\programs\\python\\python311\\lib\\site-packages (from pandas>=0.25->seaborn) (2023.3)\n",
      "Requirement already satisfied: six>=1.5 in c:\\users\\amara\\appdata\\roaming\\python\\python311\\site-packages (from python-dateutil>=2.7->matplotlib!=3.6.1,>=3.1->seaborn) (1.16.0)\n",
      "Installing collected packages: seaborn\n",
      "Successfully installed seaborn-0.12.2\n"
     ]
    }
   ],
   "source": [
    "pip install seaborn "
   ]
  },
  {
   "cell_type": "code",
   "execution_count": 288,
   "metadata": {},
   "outputs": [],
   "source": [
    "import seaborn as sns"
   ]
  },
  {
   "cell_type": "code",
   "execution_count": 189,
   "metadata": {},
   "outputs": [
    {
     "data": {
      "text/html": [
       "<div>\n",
       "<style scoped>\n",
       "    .dataframe tbody tr th:only-of-type {\n",
       "        vertical-align: middle;\n",
       "    }\n",
       "\n",
       "    .dataframe tbody tr th {\n",
       "        vertical-align: top;\n",
       "    }\n",
       "\n",
       "    .dataframe thead th {\n",
       "        text-align: right;\n",
       "    }\n",
       "</style>\n",
       "<table border=\"1\" class=\"dataframe\">\n",
       "  <thead>\n",
       "    <tr style=\"text-align: right;\">\n",
       "      <th></th>\n",
       "      <th>idade</th>\n",
       "      <th>faixa_idade</th>\n",
       "      <th>genero</th>\n",
       "      <th>cor_raca_etnia</th>\n",
       "      <th>pcd</th>\n",
       "      <th>vive_no_brasil</th>\n",
       "      <th>estado_onde_mora</th>\n",
       "      <th>uf_onde_mora</th>\n",
       "      <th>regiao_onde_mora</th>\n",
       "      <th>mudou_de_estado?</th>\n",
       "      <th>regiao_de_origem</th>\n",
       "      <th>nivel_de_ensino</th>\n",
       "      <th>área_de_formação</th>\n",
       "      <th>qual_sua_situação_atual_de_trabalho?</th>\n",
       "    </tr>\n",
       "  </thead>\n",
       "  <tbody>\n",
       "    <tr>\n",
       "      <th>0</th>\n",
       "      <td>39</td>\n",
       "      <td>35-39</td>\n",
       "      <td>Masculino</td>\n",
       "      <td>Parda</td>\n",
       "      <td>Não</td>\n",
       "      <td>True</td>\n",
       "      <td>Distrito Federal (DF)</td>\n",
       "      <td>DF</td>\n",
       "      <td>Centro-oeste</td>\n",
       "      <td>False</td>\n",
       "      <td>Sudeste</td>\n",
       "      <td>Pós-graduação</td>\n",
       "      <td>Computação / Engenharia de Software / Sistemas...</td>\n",
       "      <td>Servidor Público</td>\n",
       "    </tr>\n",
       "    <tr>\n",
       "      <th>1</th>\n",
       "      <td>32</td>\n",
       "      <td>30-34</td>\n",
       "      <td>Masculino</td>\n",
       "      <td>Parda</td>\n",
       "      <td>Não</td>\n",
       "      <td>True</td>\n",
       "      <td>Pará (PA)</td>\n",
       "      <td>PA</td>\n",
       "      <td>Norte</td>\n",
       "      <td>True</td>\n",
       "      <td>NaN</td>\n",
       "      <td>Graduação/Bacharelado</td>\n",
       "      <td>Outras Engenharias</td>\n",
       "      <td>Empregado (CLT)</td>\n",
       "    </tr>\n",
       "    <tr>\n",
       "      <th>2</th>\n",
       "      <td>53</td>\n",
       "      <td>50-54</td>\n",
       "      <td>Masculino</td>\n",
       "      <td>Branca</td>\n",
       "      <td>Não</td>\n",
       "      <td>True</td>\n",
       "      <td>Distrito Federal (DF)</td>\n",
       "      <td>DF</td>\n",
       "      <td>Centro-oeste</td>\n",
       "      <td>False</td>\n",
       "      <td>Sul</td>\n",
       "      <td>Pós-graduação</td>\n",
       "      <td>Computação / Engenharia de Software / Sistemas...</td>\n",
       "      <td>Empregado (CLT)</td>\n",
       "    </tr>\n",
       "    <tr>\n",
       "      <th>3</th>\n",
       "      <td>27</td>\n",
       "      <td>25-29</td>\n",
       "      <td>Masculino</td>\n",
       "      <td>Branca</td>\n",
       "      <td>Não</td>\n",
       "      <td>True</td>\n",
       "      <td>Minas Gerais (MG)</td>\n",
       "      <td>MG</td>\n",
       "      <td>Sudeste</td>\n",
       "      <td>True</td>\n",
       "      <td>NaN</td>\n",
       "      <td>Doutorado ou Phd</td>\n",
       "      <td>Estatística/ Matemática / Matemática Computaci...</td>\n",
       "      <td>Empregado (CLT)</td>\n",
       "    </tr>\n",
       "    <tr>\n",
       "      <th>4</th>\n",
       "      <td>46</td>\n",
       "      <td>45-49</td>\n",
       "      <td>Feminino</td>\n",
       "      <td>Branca</td>\n",
       "      <td>Não</td>\n",
       "      <td>True</td>\n",
       "      <td>Pará (PA)</td>\n",
       "      <td>PA</td>\n",
       "      <td>Norte</td>\n",
       "      <td>True</td>\n",
       "      <td>NaN</td>\n",
       "      <td>Pós-graduação</td>\n",
       "      <td>Computação / Engenharia de Software / Sistemas...</td>\n",
       "      <td>Servidor Público</td>\n",
       "    </tr>\n",
       "  </tbody>\n",
       "</table>\n",
       "</div>"
      ],
      "text/plain": [
       "   idade faixa_idade     genero cor_raca_etnia  pcd vive_no_brasil  \\\n",
       "0     39       35-39  Masculino          Parda  Não           True   \n",
       "1     32       30-34  Masculino          Parda  Não           True   \n",
       "2     53       50-54  Masculino         Branca  Não           True   \n",
       "3     27       25-29  Masculino         Branca  Não           True   \n",
       "4     46       45-49   Feminino         Branca  Não           True   \n",
       "\n",
       "        estado_onde_mora uf_onde_mora regiao_onde_mora mudou_de_estado?  \\\n",
       "0  Distrito Federal (DF)           DF     Centro-oeste            False   \n",
       "1              Pará (PA)           PA            Norte             True   \n",
       "2  Distrito Federal (DF)           DF     Centro-oeste            False   \n",
       "3      Minas Gerais (MG)           MG          Sudeste             True   \n",
       "4              Pará (PA)           PA            Norte             True   \n",
       "\n",
       "  regiao_de_origem        nivel_de_ensino  \\\n",
       "0          Sudeste          Pós-graduação   \n",
       "1              NaN  Graduação/Bacharelado   \n",
       "2              Sul          Pós-graduação   \n",
       "3              NaN       Doutorado ou Phd   \n",
       "4              NaN          Pós-graduação   \n",
       "\n",
       "                                    área_de_formação  \\\n",
       "0  Computação / Engenharia de Software / Sistemas...   \n",
       "1                                 Outras Engenharias   \n",
       "2  Computação / Engenharia de Software / Sistemas...   \n",
       "3  Estatística/ Matemática / Matemática Computaci...   \n",
       "4  Computação / Engenharia de Software / Sistemas...   \n",
       "\n",
       "  qual_sua_situação_atual_de_trabalho?  \n",
       "0                     Servidor Público  \n",
       "1                      Empregado (CLT)  \n",
       "2                      Empregado (CLT)  \n",
       "3                      Empregado (CLT)  \n",
       "4                     Servidor Público  "
      ]
     },
     "execution_count": 189,
     "metadata": {},
     "output_type": "execute_result"
    }
   ],
   "source": [
    "df_demografico1.head()"
   ]
  },
  {
   "cell_type": "markdown",
   "metadata": {},
   "source": [
    "Nivel de ensino x Situação de Trabalho (radar)\n",
    "Area de formação x Genero (grafico de barras empilhadas com tab de legenda)"
   ]
  },
  {
   "cell_type": "code",
   "execution_count": 304,
   "metadata": {},
   "outputs": [
    {
     "data": {
      "text/plain": [
       "array(['Servidor Público', 'Empregado (CLT)',\n",
       "       'Trabalho na área Acadêmica/Pesquisador',\n",
       "       'Empreendedor ou Empregado (CNPJ)',\n",
       "       'Desempregado, buscando recolocação', 'Estagiário',\n",
       "       'Prefiro não informar', 'Somente Estudante (pós-graduação)',\n",
       "       'Freelancer', 'Desempregado e não estou buscando recolocação',\n",
       "       'Vivo fora do Brasil e trabalho para empresa de fora do Brasil',\n",
       "       'Somente Estudante (graduação)',\n",
       "       'Vivo no Brasil e trabalho remoto para empresa de fora do Brasil'],\n",
       "      dtype=object)"
      ]
     },
     "execution_count": 304,
     "metadata": {},
     "output_type": "execute_result"
    }
   ],
   "source": [
    "df_demografico1[\"qual_sua_situação_atual_de_trabalho?\"].unique()"
   ]
  },
  {
   "cell_type": "code",
   "execution_count": 294,
   "metadata": {},
   "outputs": [
    {
     "data": {
      "image/png": "[encoded data removed]",
      "text/plain": [
       "<Figure size 1000x600 with 1 Axes>"
      ]
     },
     "metadata": {},
     "output_type": "display_data"
    }
   ],
   "source": [
    "# Calcular a contagem de cada categoria na coluna 'genero'\n",
    "grupo_genero = df_demografico1.groupby(\"genero\")[\"idade\"].count()\n",
    "\n",
    "# Configurar o gráfico de barras\n",
    "plt.figure(figsize=(10, 6))\n",
    "bars = plt.bar(grupo_genero.index, grupo_genero.values, color=sns.cubehelix_palette())\n",
    "\n",
    "# Adicionar os números absolutos acima das barras\n",
    "for bar in bars:\n",
    "    yval = bar.get_height()\n",
    "    plt.text(bar.get_x() + bar.get_width()/2.0, yval, int(yval), va='bottom', ha='center', fontsize=12, color='black')\n",
    "\n",
    "# Adicionar rótulos e título\n",
    "plt.xlabel(\"Gênero\")\n",
    "plt.ylabel(\"Contagem\")\n",
    "plt.title(\"Contagem por Gênero\")\n",
    "\n",
    "# Mostrar o gráfico\n",
    "plt.show()"
   ]
  },
  {
   "cell_type": "code",
   "execution_count": 302,
   "metadata": {},
   "outputs": [
    {
     "data": {
      "image/png": "[encoded data removed]",
      "text/plain": [
       "<Figure size 800x800 with 1 Axes>"
      ]
     },
     "metadata": {},
     "output_type": "display_data"
    }
   ],
   "source": [
    "# Calcular a contagem de cada categoria na coluna 'genero'\n",
    "grupo_genero = df_demografico1.groupby(\"genero\")[\"idade\"].count()\n",
    "\n",
    "# Configurar o gráfico de pizza\n",
    "plt.figure(figsize=(8, 8))\n",
    "wedges, texts, autotexts = plt.pie(grupo_genero, labels=grupo_genero.index, autopct='%1.2f%%', startangle=140, colors=sns.cubehelix_palette())\n",
    "\n",
    "# Adicionar título\n",
    "plt.title(\"Distribuição por Gênero\")\n",
    "\n",
    "# Adicionar os números absolutos nas bordas das fatias\n",
    "for i, (wedge, label) in enumerate(zip(wedges, grupo_genero.index)):\n",
    "    angle = (wedge.theta2 - wedge.theta1) / 2. + wedge.theta1\n",
    "    x = 0.5 * wedge.r * np.cos(np.deg2rad(angle))\n",
    "    y = 0.5 * wedge.r * np.sin(np.deg2rad(angle))\n",
    "    #plt.text(x, y, f\"{grupo_genero[label]}\", ha='center', va='center', color='white', fontsize=12, fontweight='bold')\n",
    "\n",
    "# Mostrar o gráfico\n",
    "plt.show()"
   ]
  },
  {
   "cell_type": "code",
   "execution_count": 252,
   "metadata": {},
   "outputs": [
    {
     "data": {
      "image/png": "[encoded data removed]",
      "text/plain": [
       "<Figure size 1000x600 with 1 Axes>"
      ]
     },
     "metadata": {},
     "output_type": "display_data"
    }
   ],
   "source": [
    "# Calcular a contagem de cada categoria na coluna 'cor_raca_etnia'\n",
    "contagem_cor_raca = df_demografico1[\"cor_raca_etnia\"].value_counts()\n",
    "\n",
    "# Configurar o gráfico de barras horizontais\n",
    "plt.figure(figsize=(10, 6))\n",
    "bars = plt.barh(contagem_cor_raca.index, contagem_cor_raca.values, color=sns.cubehelix_palette())\n",
    "\n",
    "# Adicionar os valores acima das barras\n",
    "for bar in bars:\n",
    "    plt.text(bar.get_width(), bar.get_y() + bar.get_height()/2, str(int(bar.get_width())), va='center', color='black', fontsize=12, fontweight='bold')\n",
    "\n",
    "# Adicionar rótulos e título\n",
    "plt.xlabel(\"Quantidade\")\n",
    "plt.ylabel(\"Raça e Etnia\")\n",
    "plt.title(\"Quantidade por Raça e Etnia\")\n",
    "\n",
    "# Inverter a ordem das categorias para ficar em ordem decrescente\n",
    "plt.gca().invert_yaxis()\n",
    "\n",
    "# Mostrar o gráfico\n",
    "plt.show()"
   ]
  }
 ],
 "metadata": {
  "kernelspec": {
   "display_name": "Python 3",
   "language": "python",
   "name": "python3"
  },
  "language_info": {
   "codemirror_mode": {
    "name": "ipython",
    "version": 3
   },
   "file_extension": ".py",
   "mimetype": "text/x-python",
   "name": "python",
   "nbconvert_exporter": "python",
   "pygments_lexer": "ipython3",
   "version": "3.11.3"
  },
  "orig_nbformat": 4
 },
 "nbformat": 4,
 "nbformat_minor": 2
}
